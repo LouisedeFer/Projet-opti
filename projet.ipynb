{
 "cells": [
  {
   "cell_type": "markdown",
   "metadata": {},
   "source": [
    "# Mini-Projet 4 #\n",
    "\n",
    "### 1.Étude du problème d'otpimisation ###\n",
    "\n",
    "1. Soit $$f : z \\mapsto \\frac{1}{2} || z - z_b ||_2^2 + \\sum_{(i,j)}|| \\nabla z(i,j)||_2^2$$\n",
    "\n",
    "$f$ est la fonction coût à minimiser par rapport à l'image bruitée $z_b$.\n",
    "\n",
    "Tous les pixels devant en outre être compris entre $0$ et $1$, le vecteur contrainte $c(z)$ contient l'ensemble des coordonnées de $z$ avec $$\\forall (i,j) \\in \\mathbb{R}^{n}\\times \\mathbb{R}^{m} c_{i,j}= u_{i,j}-1 \\text{ et } c_{n+i,m+j}=-u_{n+i,m+j}$$.\n",
    "Il y a donc $2n*2m=4nm$ contraintes. "
   ]
  },
  {
   "cell_type": "markdown",
   "metadata": {},
   "source": []
  },
  {
   "cell_type": "markdown",
   "metadata": {},
   "source": []
  },
  {
   "cell_type": "markdown",
   "metadata": {},
   "source": []
  }
 ],
 "metadata": {
  "language_info": {
   "name": "python"
  }
 },
 "nbformat": 4,
 "nbformat_minor": 2
}
